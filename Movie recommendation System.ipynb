{
 "cells": [
  {
   "cell_type": "markdown",
   "metadata": {},
   "source": [
    "<h1><center>Recommedation system</center></h1>\n",
    "<h3><center>Movie recommendation system using Collaborative filtering</center></h3>\n",
    "\n",
    "The aim of the project is to build a movie recommendation system using collaborative filtering methods. Collaborative filtering methods are methods that are solely based on users past interactions recorded between users and items. The interations have to be stored as user-item-interaction matrix. <br>\n",
    "\n",
    "The dataset used is the popular MovieLens dataset. It contains the following columns:-\n",
    "* userId : Unique identifier for user\n",
    "* movieId : Unique identifier for movie\n",
    "* rating : Rating of movie given by user\n",
    "* timestamp : Time of rating"
   ]
  },
  {
   "cell_type": "code",
   "execution_count": 1,
   "metadata": {},
   "outputs": [],
   "source": [
    "import pandas as pd\n",
    "import numpy as np\n",
    "import seaborn as sns\n",
    "import matplotlib.pyplot as plt\n",
    "from surprise.accuracy import mse, mae\n",
    "from surprise.model_selection import cross_validate\n",
    "from surprise import Reader, Dataset, SVD \n",
    "from collections import defaultdict"
   ]
  },
  {
   "cell_type": "markdown",
   "metadata": {},
   "source": [
    "The dataset is read into a dataframe and the timestamp column is removed since no temporal information is important for this method."
   ]
  },
  {
   "cell_type": "code",
   "execution_count": 2,
   "metadata": {},
   "outputs": [
    {
     "data": {
      "text/html": [
       "<div>\n",
       "<style scoped>\n",
       "    .dataframe tbody tr th:only-of-type {\n",
       "        vertical-align: middle;\n",
       "    }\n",
       "\n",
       "    .dataframe tbody tr th {\n",
       "        vertical-align: top;\n",
       "    }\n",
       "\n",
       "    .dataframe thead th {\n",
       "        text-align: right;\n",
       "    }\n",
       "</style>\n",
       "<table border=\"1\" class=\"dataframe\">\n",
       "  <thead>\n",
       "    <tr style=\"text-align: right;\">\n",
       "      <th></th>\n",
       "      <th>userId</th>\n",
       "      <th>movieId</th>\n",
       "      <th>rating</th>\n",
       "    </tr>\n",
       "  </thead>\n",
       "  <tbody>\n",
       "    <tr>\n",
       "      <th>0</th>\n",
       "      <td>1</td>\n",
       "      <td>1</td>\n",
       "      <td>4.0</td>\n",
       "    </tr>\n",
       "    <tr>\n",
       "      <th>1</th>\n",
       "      <td>1</td>\n",
       "      <td>3</td>\n",
       "      <td>4.0</td>\n",
       "    </tr>\n",
       "    <tr>\n",
       "      <th>2</th>\n",
       "      <td>1</td>\n",
       "      <td>6</td>\n",
       "      <td>4.0</td>\n",
       "    </tr>\n",
       "    <tr>\n",
       "      <th>3</th>\n",
       "      <td>1</td>\n",
       "      <td>47</td>\n",
       "      <td>5.0</td>\n",
       "    </tr>\n",
       "    <tr>\n",
       "      <th>4</th>\n",
       "      <td>1</td>\n",
       "      <td>50</td>\n",
       "      <td>5.0</td>\n",
       "    </tr>\n",
       "  </tbody>\n",
       "</table>\n",
       "</div>"
      ],
      "text/plain": [
       "   userId  movieId  rating\n",
       "0       1        1     4.0\n",
       "1       1        3     4.0\n",
       "2       1        6     4.0\n",
       "3       1       47     5.0\n",
       "4       1       50     5.0"
      ]
     },
     "execution_count": 2,
     "metadata": {},
     "output_type": "execute_result"
    }
   ],
   "source": [
    "df = pd.read_csv('/home/raj/Downloads/ratings.csv')\n",
    "df.drop('timestamp', axis= 1, inplace= True)\n",
    "df.head(5)"
   ]
  },
  {
   "cell_type": "markdown",
   "metadata": {},
   "source": [
    "Before further pre-processing, it is important to check for Null values and remove them. The dataset is very clean, with no missing values."
   ]
  },
  {
   "cell_type": "code",
   "execution_count": 3,
   "metadata": {},
   "outputs": [
    {
     "data": {
      "text/plain": [
       "userId     0\n",
       "movieId    0\n",
       "rating     0\n",
       "dtype: int64"
      ]
     },
     "execution_count": 3,
     "metadata": {},
     "output_type": "execute_result"
    }
   ],
   "source": [
    "df.isna().sum()"
   ]
  },
  {
   "cell_type": "code",
   "execution_count": 4,
   "metadata": {},
   "outputs": [
    {
     "name": "stdout",
     "output_type": "stream",
     "text": [
      "Number of unique movies: 9724\n",
      "Number of unique users: 610\n"
     ]
    }
   ],
   "source": [
    "print(\"Number of unique movies:\", df.movieId.nunique())\n",
    "print(\"Number of unique users:\", df.userId.nunique())"
   ]
  },
  {
   "cell_type": "markdown",
   "metadata": {},
   "source": [
    "There are 610 unique users in the dataset and 9724 unique movies listed. Considering a static snapshot of the system, there are 9724 movies to recommend to 610 users. Some movies have already been rated by these users, thus the remaning movies (not rated by a particular user) are open for recommendations to that user.\n",
    "The dataset contains 100836 rows i.e. that many user-item interactions. Total possible values in the matrix are 610x9724. Thus the matrix is a sparse matrix.<br>\n",
    "\n",
    "For a sparse matrix, the sparsity is calculated. The sparsity gives the percentage of 0 or None values in the matrix. The available ratings are the user-movie rating that are not None or 0. Total ratings are the total values of the matrix - 610x9724. Thus sparsity is calculated as:-\n",
    "\n",
    "  $\\dfrac{availableRatings - totalRatings}{totalRatings} * 100$"
   ]
  },
  {
   "cell_type": "code",
   "execution_count": 5,
   "metadata": {},
   "outputs": [
    {
     "name": "stdout",
     "output_type": "stream",
     "text": [
      "Sparsity in the ratings: 98.30003169443864\n"
     ]
    }
   ],
   "source": [
    "available_ratings = df.rating.count()\n",
    "total_ratings = df.movieId.nunique() * df.userId.nunique()\n",
    "missing_ratings = total_ratings - available_ratings\n",
    "sparsity = (missing_ratings/total_ratings) * 100\n",
    "print(\"Sparsity in the ratings:\", sparsity)"
   ]
  },
  {
   "cell_type": "markdown",
   "metadata": {},
   "source": [
    "There is about 98.3% sparsity in the user-movie matrix. This is within the limits. The model used can handle upto 95% sparsity in the dataset. The below visualization is the histogram for the rating values. This gives a sense of the upper and lower limit of ratings given by users. "
   ]
  },
  {
   "cell_type": "code",
   "execution_count": 6,
   "metadata": {},
   "outputs": [
    {
     "data": {
      "text/plain": [
       "Text(0.5, 0, 'rating')"
      ]
     },
     "execution_count": 6,
     "metadata": {},
     "output_type": "execute_result"
    },
    {
     "data": {
      "image/png": "[encoded data removed]",
      "text/plain": [
       "<Figure size 864x576 with 1 Axes>"
      ]
     },
     "metadata": {
      "needs_background": "light"
     },
     "output_type": "display_data"
    }
   ],
   "source": [
    "dist = df.rating.value_counts()\n",
    "plt.figure(figsize=(12,8))\n",
    "sns.barplot(x= dist.index, y= dist.values, color= '#009999')\n",
    "plt.title('Ratings histogram', fontdict= {'size':15})\n",
    "plt.yticks([])\n",
    "plt.xlabel('rating')"
   ]
  },
  {
   "cell_type": "markdown",
   "metadata": {},
   "source": [
    "The ratings range from 0.5 to 5.0, with ratings 3 to 5 the most frequent amongst all.<br>\n",
    "\n",
    "The recommendation system works poorly when there isn't enough interactions of a user or of an item. Meaning, a user only rated 2 movies in the lifetime, cannot possibly get accurate recommendation, similarly, a movie rated just twice cannot be used for accurate recommendation. Simply because there isn't enought data (cold start problem). Such cases can be handled separately using a random strategy, maximum expectation startegy, exploratory strategy etc.<br>\n",
    "\n",
    "For the problem in hand, all users who have not rated more than 3 movies and all movies which haven't been rated more than 3 times are removed from the dataset. This leaves those users and movies which are suitable to be considered for past interactions based collaborative filtering."
   ]
  },
  {
   "cell_type": "code",
   "execution_count": 7,
   "metadata": {},
   "outputs": [
    {
     "name": "stdout",
     "output_type": "stream",
     "text": [
      "Original dimensions: (100836, 3)\n",
      "New dimensions: (92394, 3)\n"
     ]
    }
   ],
   "source": [
    "filter_movies = df.movieId.value_counts() > 3\n",
    "filter_movies = filter_movies[filter_movies].index.tolist()\n",
    "\n",
    "filter_users = df.userId.value_counts() > 3\n",
    "filter_users = filter_users[filter_users].index.tolist()\n",
    "\n",
    "print(\"Original dimensions:\", df.shape)\n",
    "df = df[(df.movieId.isin(filter_movies)) & (df.userId.isin(filter_users))]\n",
    "print(\"New dimensions:\", df.shape)"
   ]
  },
  {
   "cell_type": "markdown",
   "metadata": {},
   "source": [
    "About 8442 rows were removed from the dataset. This is about 8% reduction in the dataset which is acceptable.<br>\n",
    "\n",
    "The `Reader` class is used parse a file containing user-item-interactions per line and to specify the range of teg ratings, here (0.5,5). The format of each line by default has to be `user item rating`. The `Dataset` class provides methods to read datasets from various sources, in this case from a pandas dataframe. The object of `Reader` class is passed to this to specify the format in which each row of the dataframe should be read as.<br>\n",
    "\n",
    "Once the dataset is read into the format required by the model, the train and test sets are created. The entire dataset is used as a train set since that is the past information of each user and their ratings for movies. The anti-set (testset) is the set of all user-item pairs which are 0 or None in the sparse matrix (basically, the rating information the dataset does not have). The model will predict the value of rating at these locations."
   ]
  },
  {
   "cell_type": "code",
   "execution_count": 8,
   "metadata": {},
   "outputs": [],
   "source": [
    "cols = ['userId', 'movieId', 'rating']\n",
    "reader = Reader(rating_scale= (0.5,5))\n",
    "data = Dataset.load_from_df(df[cols],reader)\n",
    "\n",
    "train_set = data.build_full_trainset()\n",
    "antiset = train_set.build_anti_testset()"
   ]
  },
  {
   "cell_type": "markdown",
   "metadata": {},
   "source": [
    "The SVD model is used for the recommender system. It factorizes the input matrix via Stocahstic Gradient descent. The model will run 25 epochs on the train set. To understand the performance of the model, it cross-validated with k=5 on the entire data. The RMSE and MAE values are reported for each fold."
   ]
  },
  {
   "cell_type": "code",
   "execution_count": 9,
   "metadata": {
    "scrolled": false
   },
   "outputs": [
    {
     "name": "stdout",
     "output_type": "stream",
     "text": [
      "Processing epoch 0\n",
      "Processing epoch 1\n",
      "Processing epoch 2\n",
      "Processing epoch 3\n",
      "Processing epoch 4\n",
      "Processing epoch 5\n",
      "Processing epoch 6\n",
      "Processing epoch 7\n",
      "Processing epoch 8\n",
      "Processing epoch 9\n",
      "Processing epoch 10\n",
      "Processing epoch 11\n",
      "Processing epoch 12\n",
      "Processing epoch 13\n",
      "Processing epoch 14\n",
      "Processing epoch 15\n",
      "Processing epoch 16\n",
      "Processing epoch 17\n",
      "Processing epoch 18\n",
      "Processing epoch 19\n",
      "Processing epoch 20\n",
      "Processing epoch 21\n",
      "Processing epoch 22\n",
      "Processing epoch 23\n",
      "Processing epoch 24\n",
      "Processing epoch 0\n",
      "Processing epoch 1\n",
      "Processing epoch 2\n",
      "Processing epoch 3\n",
      "Processing epoch 4\n",
      "Processing epoch 5\n",
      "Processing epoch 6\n",
      "Processing epoch 7\n",
      "Processing epoch 8\n",
      "Processing epoch 9\n",
      "Processing epoch 10\n",
      "Processing epoch 11\n",
      "Processing epoch 12\n",
      "Processing epoch 13\n",
      "Processing epoch 14\n",
      "Processing epoch 15\n",
      "Processing epoch 16\n",
      "Processing epoch 17\n",
      "Processing epoch 18\n",
      "Processing epoch 19\n",
      "Processing epoch 20\n",
      "Processing epoch 21\n",
      "Processing epoch 22\n",
      "Processing epoch 23\n",
      "Processing epoch 24\n",
      "Processing epoch 0\n",
      "Processing epoch 1\n",
      "Processing epoch 2\n",
      "Processing epoch 3\n",
      "Processing epoch 4\n",
      "Processing epoch 5\n",
      "Processing epoch 6\n",
      "Processing epoch 7\n",
      "Processing epoch 8\n",
      "Processing epoch 9\n",
      "Processing epoch 10\n",
      "Processing epoch 11\n",
      "Processing epoch 12\n",
      "Processing epoch 13\n",
      "Processing epoch 14\n",
      "Processing epoch 15\n",
      "Processing epoch 16\n",
      "Processing epoch 17\n",
      "Processing epoch 18\n",
      "Processing epoch 19\n",
      "Processing epoch 20\n",
      "Processing epoch 21\n",
      "Processing epoch 22\n",
      "Processing epoch 23\n",
      "Processing epoch 24\n",
      "Processing epoch 0\n",
      "Processing epoch 1\n",
      "Processing epoch 2\n",
      "Processing epoch 3\n",
      "Processing epoch 4\n",
      "Processing epoch 5\n",
      "Processing epoch 6\n",
      "Processing epoch 7\n",
      "Processing epoch 8\n",
      "Processing epoch 9\n",
      "Processing epoch 10\n",
      "Processing epoch 11\n",
      "Processing epoch 12\n",
      "Processing epoch 13\n",
      "Processing epoch 14\n",
      "Processing epoch 15\n",
      "Processing epoch 16\n",
      "Processing epoch 17\n",
      "Processing epoch 18\n",
      "Processing epoch 19\n",
      "Processing epoch 20\n",
      "Processing epoch 21\n",
      "Processing epoch 22\n",
      "Processing epoch 23\n",
      "Processing epoch 24\n",
      "Processing epoch 0\n",
      "Processing epoch 1\n",
      "Processing epoch 2\n",
      "Processing epoch 3\n",
      "Processing epoch 4\n",
      "Processing epoch 5\n",
      "Processing epoch 6\n",
      "Processing epoch 7\n",
      "Processing epoch 8\n",
      "Processing epoch 9\n",
      "Processing epoch 10\n",
      "Processing epoch 11\n",
      "Processing epoch 12\n",
      "Processing epoch 13\n",
      "Processing epoch 14\n",
      "Processing epoch 15\n",
      "Processing epoch 16\n",
      "Processing epoch 17\n",
      "Processing epoch 18\n",
      "Processing epoch 19\n",
      "Processing epoch 20\n",
      "Processing epoch 21\n",
      "Processing epoch 22\n",
      "Processing epoch 23\n",
      "Processing epoch 24\n",
      "Evaluating MAE, RMSE of algorithm SVD on 5 split(s).\n",
      "\n",
      "                  Fold 1  Fold 2  Fold 3  Fold 4  Fold 5  Mean    Std     \n",
      "MAE (testset)     0.6682  0.6555  0.6534  0.6628  0.6591  0.6598  0.0053  \n",
      "RMSE (testset)    0.8735  0.8579  0.8512  0.8624  0.8600  0.8610  0.0073  \n",
      "Fit time          5.71    5.51    4.67    4.64    4.70    5.04    0.47    \n",
      "Test time         0.25    0.14    0.22    0.13    0.22    0.19    0.05    \n",
      "Training complete\n"
     ]
    }
   ],
   "source": [
    "mod = SVD(n_epochs= 25, verbose= True)\n",
    "cross_validate(mod, data, measures= ['MAE','RMSE'], cv= 5, verbose= True)\n",
    "print(\"Training complete\")"
   ]
  },
  {
   "cell_type": "markdown",
   "metadata": {},
   "source": [
    "The trained model gives an average MAE value of 0.65 and an average RMSE value of 0.86 on the test set. This is not a very bad fit. Thus now, the trained model is used to make predictions on the anti-set. For each user and movie pair not present in initial data, a prediction is made.<br>\n",
    "The function below, makes a dictionary of users with each user having a list of (movie,rating) tuples. It sorts the list in descending order by rating and returns the top 'n' movies that are to be recommended to that user."
   ]
  },
  {
   "cell_type": "code",
   "execution_count": 10,
   "metadata": {},
   "outputs": [],
   "source": [
    "def get_top_n_predictions(predictions,n):\n",
    "    \"\"\"\n",
    "    Return top 'n' predicted ratings for each user\n",
    "    \n",
    "    parameters:\n",
    "        predictions: list of Predictions.Prediction, predictions from the model.\n",
    "        \n",
    "        n: int. number of top predictions.\n",
    "        \n",
    "    returns:\n",
    "        top_pred: dict. User and top 'n' predicted ratings for each.\n",
    "    \"\"\"\n",
    "    top_pred = defaultdict(list)\n",
    "    \n",
    "    for uid, iid, _, est,_ in pred:\n",
    "        top_pred[uid].append((iid,est))\n",
    "        \n",
    "    for uid, user_rating in top_pred.items():\n",
    "        user_rating.sort(key= lambda x: x[1], reverse= True)\n",
    "        top_pred[uid] = user_rating[:n]\n",
    "        \n",
    "    return top_pred"
   ]
  },
  {
   "cell_type": "code",
   "execution_count": 11,
   "metadata": {
    "scrolled": true
   },
   "outputs": [],
   "source": [
    "pred = mod.test(antiset)\n",
    "top_n = get_top_n_predictions(pred,3)"
   ]
  },
  {
   "cell_type": "markdown",
   "metadata": {},
   "source": [
    "The top 3 recommendations for all users is stored in the `top_n` dictionary. The function below returns the recommendations for the users specified. This function is the interface to retrieve user specific recommendations from the model based on the entire static system of users and movies."
   ]
  },
  {
   "cell_type": "code",
   "execution_count": 31,
   "metadata": {},
   "outputs": [],
   "source": [
    "def get_user_recommendations(user):\n",
    "    \"\"\"\n",
    "    Returns the recommendations for users specified\n",
    "    \n",
    "    parameters:\n",
    "        user: list. userId\n",
    "        \n",
    "    returns:\n",
    "        recommend: list. List of movieId recommended by model\n",
    "    \"\"\"\n",
    "    recommend = {}\n",
    "    for uid in user:\n",
    "        recommend[uid] = [iid for iid,_ in top_n[uid]]\n",
    "\n",
    "    return recommend"
   ]
  },
  {
   "cell_type": "code",
   "execution_count": 32,
   "metadata": {},
   "outputs": [
    {
     "name": "stdout",
     "output_type": "stream",
     "text": [
      "User 56 [750, 475, 898]\n",
      "User 84 [110, 1086, 3508]\n",
      "User 90 [858, 7361, 3508]\n",
      "User 357 [750, 1261, 3703]\n"
     ]
    }
   ],
   "source": [
    "user_recommendations = get_user_recommendations([56,84,90,357])\n",
    "for uid, user_ratings in user_recommendations.items():\n",
    "    print(f\"User {uid}\", user_ratings)"
   ]
  },
  {
   "cell_type": "markdown",
   "metadata": {},
   "source": [
    "For 4 users the corresponding recommendations are given as a list of movieIds as seen above. Thus the recommendation system is now ready to be queried by userIds. This completes the project for a recommendation system using collaborative filtering methods."
   ]
  }
 ],
 "metadata": {
  "kernelspec": {
   "display_name": "Python 3",
   "language": "python",
   "name": "python3"
  },
  "language_info": {
   "codemirror_mode": {
    "name": "ipython",
    "version": 3
   },
   "file_extension": ".py",
   "mimetype": "text/x-python",
   "name": "python",
   "nbconvert_exporter": "python",
   "pygments_lexer": "ipython3",
   "version": "3.8.2"
  }
 },
 "nbformat": 4,
 "nbformat_minor": 4
}
